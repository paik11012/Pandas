{
 "cells": [
  {
   "cell_type": "code",
   "execution_count": 2,
   "metadata": {},
   "outputs": [],
   "source": [
    "import pandas as pd"
   ]
  },
  {
   "cell_type": "code",
   "execution_count": 58,
   "metadata": {},
   "outputs": [],
   "source": [
    "from bs4 import BeautifulSoup\n",
    "import requests\n",
    "from urllib import parse\n",
    "import re"
   ]
  },
  {
   "cell_type": "code",
   "execution_count": 59,
   "metadata": {},
   "outputs": [],
   "source": [
    "import requests\n",
    "\n",
    "URL = \"https://namu.wiki/w/%EB%8F%99%EB%AC%BC%EC%9D%98%20%EC%88%B2%20%EC%8B%9C%EB%A6%AC%EC%A6%88/%EB%AC%BC%EA%B3%A0%EA%B8%B0\"\n",
    "html = get_html(URL)\n",
    "soup = BeautifulSoup(html, 'html.parser')"
   ]
  },
  {
   "cell_type": "code",
   "execution_count": 60,
   "metadata": {},
   "outputs": [
    {
     "name": "stdout",
     "output_type": "stream",
     "text": [
      "7\n"
     ]
    }
   ],
   "source": [
    "l = soup.find_all(\"table\")\n",
    "print(len(l))"
   ]
  },
  {
   "cell_type": "code",
   "execution_count": 61,
   "metadata": {},
   "outputs": [
    {
     "name": "stdout",
     "output_type": "stream",
     "text": [
      "<tr style=\"background-color:#00af04; color:#fff;\"><td style=\"text-align:center;\"><div class=\"wiki-paragraph\"><strong>이름</strong></div></td><td style=\"text-align:center;\"><div class=\"wiki-paragraph\"><strong>모습</strong></div></td><td style=\"text-align:center;\"><div class=\"wiki-paragraph\"><strong>출현 기간<br/>(북반구)</strong></div></td><td style=\"text-align:center;\"><div class=\"wiki-paragraph\"><strong>출현 기간<br/>(남반구)</strong></div></td><td style=\"text-align:center;\"><div class=\"wiki-paragraph\"><strong>출현 시간</strong></div></td><td style=\"text-align:center;\"><div class=\"wiki-paragraph\"><strong>출현 장소</strong></div></td><td style=\"text-align:center;\"><div class=\"wiki-paragraph\"><strong>크기</strong></div></td><td style=\"text-align:center;\"><div class=\"wiki-paragraph\"><strong>판매 가격(벨)</strong></div></td><td style=\"text-align:center;\"><div class=\"wiki-paragraph\"><strong>최초 등장</strong></div></td></tr>\n"
     ]
    }
   ],
   "source": [
    "print(l[3].tr) # 첫 줄\n",
    "col = l[3].tr"
   ]
  },
  {
   "cell_type": "code",
   "execution_count": 62,
   "metadata": {},
   "outputs": [
    {
     "name": "stdout",
     "output_type": "stream",
     "text": [
      "[<strong>이름</strong>, <strong>모습</strong>, <strong>출현 기간<br/>(북반구)</strong>, <strong>출현 기간<br/>(남반구)</strong>, <strong>출현 시간</strong>, <strong>출현 장소</strong>, <strong>크기</strong>, <strong>판매 가격(벨)</strong>, <strong>최초 등장</strong>]\n"
     ]
    }
   ],
   "source": [
    "cols = col.select('strong')\n",
    "print(cols)"
   ]
  },
  {
   "cell_type": "code",
   "execution_count": 73,
   "metadata": {},
   "outputs": [],
   "source": [
    "columns = []"
   ]
  },
  {
   "cell_type": "code",
   "execution_count": 74,
   "metadata": {},
   "outputs": [
    {
     "name": "stdout",
     "output_type": "stream",
     "text": [
      "['이름', '모습', '출현 기간(북반구)', '출현 기간(남반구)', '출현 시간', '출현 장소', '크기', '판매 가격(벨)', '최초 등장']\n"
     ]
    }
   ],
   "source": [
    "for column in cols:\n",
    "    columns.append(column.text)\n",
    "print(columns)"
   ]
  },
  {
   "cell_type": "code",
   "execution_count": 76,
   "metadata": {},
   "outputs": [
    {
     "name": "stdout",
     "output_type": "stream",
     "text": [
      "Empty DataFrame\n",
      "Columns: [이름, 모습, 출현 기간(북반구), 출현 기간(남반구), 출현 시간, 출현 장소, 크기, 판매 가격(벨), 최초 등장]\n",
      "Index: []\n"
     ]
    }
   ],
   "source": [
    "fishdf = pd.DataFrame(columns = columns)\n",
    "print(fishdf) # 칼람만 있는데 이터 생성"
   ]
  },
  {
   "cell_type": "code",
   "execution_count": 100,
   "metadata": {},
   "outputs": [
    {
     "name": "stdout",
     "output_type": "stream",
     "text": [
      "['납줄개タナゴBitterling', '', '11월~3월', '5월~9월', '하루종일', '강', '작다', '900', '동물의 숲', '피라미オイカワPale chub', '', '1년 내내', '1년 내내', '9시~16시', '강', '작다', '200', '동물의 숲', '붕어フナCrucian carp', '', '1년 내내', '1년 내내', '하루종일', '강', '약간 작다', '160', '동물의 숲', '황어ウグイDace', '', '1년 내내', '1년 내내', '16시~9시', '강', '중간', '240', '동물의 숲', '잉어コイCarp', '', '1년 내내', '1년 내내', '하루종일', '연못', '약간 크다', '300', '동물의 숲', '비단잉어ニシキゴイKoi', '', '1년 내내', '1년 내내', '16시~9시', '연못', '약간 크다', '4000', '동물의 숲', '금붕어キンギョGoldfish', '', '1년 내내', '1년 내내', '하루종일', '연못', '작다', '1300', '동물의 숲', '툭눈금붕어デメキンPop-eyed goldfish', '', '1년 내내', '1년 내내', '9시~16시', '연못', '작다', '1300', '동물의 숲', '난주ランチュウRanchu goldfish', '', '1년 내내', '1년 내내', '9시~16시', '연못', '약간 작다', '4500', '모여봐요 동물의 숲', '송사리メダカKillifish', '', '4월~8월', '10월~2월', '하루종일', '연못', '작다', '300', '동물의 숲 +', '가재ザリガニCrawfish', '', '4월~9월', '10월~3월', '하루종일', '연못', '약간 작다', '200', '동물의 숲 +', '자라スッポンSoft-shelled turtle', '', '8월~9월', '2월~3월', '16시~9시', '강', '약간 크다', '3750', '튀어나와요 동물의 숲', '늑대거북カミツキガメSnapping Turtle', '', '4월~10월', '10월~4월', '21시~4시', '강', '약간 크다', '5000', '모여봐요 동물의 숲', '올챙이オタマジャクシTadpole', '', '3월~7월', '9월~1월', '하루종일', '연못', '작다', '100', '튀어나와요 동물의 숲', '개구리カエルFrog', '', '5월~8월', '11월~2월', '하루종일', '연못', '약간 작다', '120', '동물의 숲 +', '동사리ドンコFreshwater goby', '', '1년 내내', '1년 내내', '16시~9시', '강', '약간 작다', '400', '동물의 숲', '미꾸라지ドジョウLoach', '', '3월~5월', '9월~11월', '하루종일', '강', '약간 작다', '400', '동물의 숲', '메기ナマズCatfish', '', '5월~10월', '11월~4월', '16시~9시', '연못', '약간 크다', '800', '동물의 숲', '가물치ライギョGiant snakehead', '', '6월~8월', '12월~2월', '9시~16시', '연못', '약간 크다', '5500', '동물의 숲', '블루길ブルーギルBluegill', '', '1년 내내', '1년 내내', '9시~16시', '강', '약간 작다', '180', '동물의 숲', '옐로우퍼치イエローパーチYellow perch', '', '10월~3월', '4월~9월', '하루종일', '강', '중간', '300', '놀러오세요 동물의 숲', '큰입배스ブラックバスBlack bass', '', '1년 내내', '1년 내내', '하루종일', '강', '약간 크다', '400', '놀러오세요 동물의 숲', '틸라피아ティラピアTilapia', '', '6월~10월', '12월~4월', '하루종일', '강', '중간', '800', '모여봐요 동물의 숲', '강꼬치고기パイクPike', '', '9월~12월', '3월~6월', '4시~21시', '강', '크다', '1800', '타운으로 놀러가요 동물의 숲', '빙어ワカサギPond smelt', '', '12월~2월', '6월~8월', '하루종일', '강', '약간 작다', '400', '동물의 숲', '은어アユSweetfish', '', '7월~9월', '1월~3월', '하루종일', '강', '중간', '900', '동물의 숲', '산천어ヤマメCherry salmon', '', '3월~6월9월~11월', '9월~12월3월~5월', '16시~9시', '절벽 위', '중간', '1000', '동물의 숲', '열목어オオイワナChar', '', '3월~6월9월~11월', '9월~12월3월~5월', '16시~9시', '절벽 위', '중간', '3800', '동물의 숲', '금송어ゴールデントラウトGolden trout', '', '3월~5월9월~11월', '9월~11월3월~5월', '16시~9시', '절벽 위', '중간', '15000', '모여봐요 동물의 숲', '일본연어イトウStringfish', '', '12월~3월', '6월~9월', '16시~9시', '절벽 위', '크다', '15000', '동물의 숲', '연어サケSalmon', '', '9월', '3월', '하루종일', '하구', '약간 크다', '700', '동물의 숲', '왕연어キングサーモンKing salmon', '', '9월', '3월', '하루종일', '하구', '크다', '1800', '놀러오세요 동물의 숲', '참게シャンハイガニMitten crab', '', '9월~11월', '3월~5월', '16시~9시', '강', '약간 작다', '2000', '튀어나와요 동물의 숲', '구피グッピーGuppy', '', '4월~11월', '10월~5월', '9시~16시', '강', '작다', '1300', '동물의 숲', '닥터피시ドクターフィッシュNibble fish', '', '5월~9월', '11월~3월', '9시~16시', '강', '작다', '1500', '튀어나와요 동물의 숲', '천사어エンゼルフィッシュAngelfish', '', '5월~10월', '11월~4월', '16시~9시', '강', '약간 작다', '3000', '동물의 숲', '베타ベタBetta', '', '5월~10월', '11월~4월', '9시~16시', '강', '약간 작다', '2500', '모여봐요 동물의 숲', '네온테트라ネオンテトラNeon tetra', '', '4월~11월', '10월~5월', '9시~16시', '강', '작다', '500', '타운으로 놀러가요 동물의 숲', '레인보우피시レインボーフィッシュRainbowfish', '', '5월~10월', '11월~4월', '9시~16시', '강', '작다', '800', '모여봐요 동물의 숲', '피라니아[1] ピラニアPiranha', '', '6월~9월', '12월~3월', '9시~16시21시~4시', '강', '약간 작다', '2500', '동물의 숲', '아로와나アロワナArowana', '', '6월~9월', '12월~3월', '16시~9시', '강', '약간 크다', '10000', '동물의 숲', '황금연어ドラドDorado', '', '6월~9월', '12월~3월', '4시~21시', '강', '크다', '15000', '놀러오세요 동물의 숲', '가아ガーGar', '', '6월~9월', '12월~3월', '16시~9시', '연못', '크다', '6000', '놀러오세요 동물의 숲', '피라루쿠ピラルクArapaima', '', '6월~9월', '12월~3월', '16시~9시', '강', '특대', '10000', '동물의 숲 +', '엔드리케리エンドリケリーSaddled bichir', '', '6월~9월', '12월~3월', '21시~4시', '강', '약간 크다', '4000', '튀어나와요 동물의 숲', '철갑상어チョウザメSturgeon', '', '9월~3월', '3월~9월', '하루종일', '하구', '특대', '10000', '모여봐요 동물의 숲']\n"
     ]
    }
   ],
   "source": [
    "content = l[3] # 민물고기 목록\n",
    "fishes = content.select('td')\n",
    "# print(content)\n",
    "fishlist = []\n",
    "for fish in fishes:\n",
    "    fishlist.append(fish.text)\n",
    "print(fishlist[9:])"
   ]
  },
  {
   "cell_type": "code",
   "execution_count": null,
   "metadata": {},
   "outputs": [],
   "source": [
    "# 이미지 크롤링은"
   ]
  }
 ],
 "metadata": {
  "kernelspec": {
   "display_name": "Python 3",
   "language": "python",
   "name": "python3"
  },
  "language_info": {
   "codemirror_mode": {
    "name": "ipython",
    "version": 3
   },
   "file_extension": ".py",
   "mimetype": "text/x-python",
   "name": "python",
   "nbconvert_exporter": "python",
   "pygments_lexer": "ipython3",
   "version": "3.7.6"
  }
 },
 "nbformat": 4,
 "nbformat_minor": 4
}
