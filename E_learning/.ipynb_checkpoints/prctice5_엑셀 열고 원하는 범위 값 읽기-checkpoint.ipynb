{
 "cells": [
  {
   "cell_type": "markdown",
   "metadata": {},
   "source": [
    "## Xlwings 라이브러리\n",
    "강력한 라이브러리\n",
    "엑셀 매크로 기능을 파이썬으로 구현해 지원"
   ]
  },
  {
   "cell_type": "code",
   "execution_count": 8,
   "metadata": {},
   "outputs": [],
   "source": [
    "import xlwings as xw"
   ]
  },
  {
   "cell_type": "code",
   "execution_count": 2,
   "metadata": {},
   "outputs": [
    {
     "data": {
      "text/plain": [
       "'0.17.1'"
      ]
     },
     "execution_count": 2,
     "metadata": {},
     "output_type": "execute_result"
    }
   ],
   "source": [
    "xlwings.__version__"
   ]
  },
  {
   "cell_type": "code",
   "execution_count": 6,
   "metadata": {},
   "outputs": [
    {
     "data": {
      "text/plain": [
       "[['apple', 'cherry', 'berry'], [100, 200, 300], [140, 200, 500]]"
      ]
     },
     "execution_count": 6,
     "metadata": {},
     "output_type": "execute_result"
    }
   ],
   "source": [
    "data = [\n",
    "    ['apple','cherry','berry'],\n",
    "    [100,200,300],\n",
    "    [140,200,500],\n",
    "]\n",
    "data"
   ]
  },
  {
   "cell_type": "code",
   "execution_count": 9,
   "metadata": {},
   "outputs": [],
   "source": [
    "# 엑셀에서 보기(새로 창 열기)\n",
    "xw.view(data)"
   ]
  },
  {
   "cell_type": "code",
   "execution_count": 12,
   "metadata": {},
   "outputs": [],
   "source": [
    "# numpy  이용\n",
    "import numpy as np\n",
    "data = np.random.rand(3,5)"
   ]
  },
  {
   "cell_type": "code",
   "execution_count": 18,
   "metadata": {},
   "outputs": [],
   "source": [
    "# 이미 띄워놓은 것 갱신\n",
    "xw.view(data, xw.sheets.active)\n",
    "# xw.view 이용해 전체 워크시트 바꾸기"
   ]
  },
  {
   "cell_type": "code",
   "execution_count": 19,
   "metadata": {},
   "outputs": [],
   "source": [
    "import pandas as pd"
   ]
  },
  {
   "cell_type": "code",
   "execution_count": 21,
   "metadata": {},
   "outputs": [
    {
     "data": {
      "text/plain": [
       "1"
      ]
     },
     "execution_count": 21,
     "metadata": {},
     "output_type": "execute_result"
    }
   ],
   "source": [
    "url = 'https://finance.naver.com/marketindex/exchangeList.nhn'\n",
    "df_list = pd.read_html(url)\n",
    "len(df_list)"
   ]
  },
  {
   "cell_type": "code",
   "execution_count": 22,
   "metadata": {},
   "outputs": [
    {
     "name": "stdout",
     "output_type": "stream",
     "text": [
      "(44, 7)\n"
     ]
    },
    {
     "data": {
      "text/html": [
       "<div>\n",
       "<style scoped>\n",
       "    .dataframe tbody tr th:only-of-type {\n",
       "        vertical-align: middle;\n",
       "    }\n",
       "\n",
       "    .dataframe tbody tr th {\n",
       "        vertical-align: top;\n",
       "    }\n",
       "\n",
       "    .dataframe thead tr th {\n",
       "        text-align: left;\n",
       "    }\n",
       "</style>\n",
       "<table border=\"1\" class=\"dataframe\">\n",
       "  <thead>\n",
       "    <tr>\n",
       "      <th></th>\n",
       "      <th>통화명</th>\n",
       "      <th>매매기준율</th>\n",
       "      <th colspan=\"2\" halign=\"left\">현찰</th>\n",
       "      <th colspan=\"2\" halign=\"left\">송금</th>\n",
       "      <th>미화환산율</th>\n",
       "    </tr>\n",
       "    <tr>\n",
       "      <th></th>\n",
       "      <th>통화명</th>\n",
       "      <th>매매기준율</th>\n",
       "      <th>사실 때</th>\n",
       "      <th>파실 때</th>\n",
       "      <th>보내실 때</th>\n",
       "      <th>받으실 때</th>\n",
       "      <th>미화환산율</th>\n",
       "    </tr>\n",
       "  </thead>\n",
       "  <tbody>\n",
       "    <tr>\n",
       "      <th>0</th>\n",
       "      <td>미국 USD</td>\n",
       "      <td>1236.00</td>\n",
       "      <td>1257.63</td>\n",
       "      <td>1214.37</td>\n",
       "      <td>1248.10</td>\n",
       "      <td>1223.90</td>\n",
       "      <td>1.000</td>\n",
       "    </tr>\n",
       "    <tr>\n",
       "      <th>1</th>\n",
       "      <td>유럽연합 EUR</td>\n",
       "      <td>1334.76</td>\n",
       "      <td>1361.32</td>\n",
       "      <td>1308.20</td>\n",
       "      <td>1348.10</td>\n",
       "      <td>1321.42</td>\n",
       "      <td>1.080</td>\n",
       "    </tr>\n",
       "    <tr>\n",
       "      <th>2</th>\n",
       "      <td>일본 JPY (100엔)</td>\n",
       "      <td>1138.70</td>\n",
       "      <td>1158.62</td>\n",
       "      <td>1118.78</td>\n",
       "      <td>1149.85</td>\n",
       "      <td>1127.55</td>\n",
       "      <td>0.921</td>\n",
       "    </tr>\n",
       "    <tr>\n",
       "      <th>3</th>\n",
       "      <td>중국 CNY</td>\n",
       "      <td>173.67</td>\n",
       "      <td>182.35</td>\n",
       "      <td>164.99</td>\n",
       "      <td>175.40</td>\n",
       "      <td>171.94</td>\n",
       "      <td>0.141</td>\n",
       "    </tr>\n",
       "    <tr>\n",
       "      <th>4</th>\n",
       "      <td>홍콩 HKD</td>\n",
       "      <td>159.41</td>\n",
       "      <td>162.55</td>\n",
       "      <td>156.27</td>\n",
       "      <td>161.00</td>\n",
       "      <td>157.82</td>\n",
       "      <td>0.129</td>\n",
       "    </tr>\n",
       "  </tbody>\n",
       "</table>\n",
       "</div>"
      ],
      "text/plain": [
       "             통화명    매매기준율       현찰                송금           미화환산율\n",
       "             통화명    매매기준율     사실 때     파실 때    보내실 때    받으실 때  미화환산율\n",
       "0         미국 USD  1236.00  1257.63  1214.37  1248.10  1223.90  1.000\n",
       "1       유럽연합 EUR  1334.76  1361.32  1308.20  1348.10  1321.42  1.080\n",
       "2  일본 JPY (100엔)  1138.70  1158.62  1118.78  1149.85  1127.55  0.921\n",
       "3         중국 CNY   173.67   182.35   164.99   175.40   171.94  0.141\n",
       "4         홍콩 HKD   159.41   162.55   156.27   161.00   157.82  0.129"
      ]
     },
     "execution_count": 22,
     "metadata": {},
     "output_type": "execute_result"
    }
   ],
   "source": [
    "df = df_list[0]\n",
    "print(df.shape)\n",
    "df.head()"
   ]
  },
  {
   "cell_type": "code",
   "execution_count": 24,
   "metadata": {},
   "outputs": [
    {
     "data": {
      "text/html": [
       "<div>\n",
       "<style scoped>\n",
       "    .dataframe tbody tr th:only-of-type {\n",
       "        vertical-align: middle;\n",
       "    }\n",
       "\n",
       "    .dataframe tbody tr th {\n",
       "        vertical-align: top;\n",
       "    }\n",
       "\n",
       "    .dataframe thead th {\n",
       "        text-align: right;\n",
       "    }\n",
       "</style>\n",
       "<table border=\"1\" class=\"dataframe\">\n",
       "  <thead>\n",
       "    <tr style=\"text-align: right;\">\n",
       "      <th></th>\n",
       "      <th>통화명</th>\n",
       "      <th>매매기준율</th>\n",
       "      <th>현찰-사실때</th>\n",
       "      <th>현찰-파실때</th>\n",
       "      <th>송금-보내실 때</th>\n",
       "      <th>송금-받으실 때</th>\n",
       "      <th>미화환산율</th>\n",
       "    </tr>\n",
       "  </thead>\n",
       "  <tbody>\n",
       "    <tr>\n",
       "      <th>0</th>\n",
       "      <td>미국 USD</td>\n",
       "      <td>1236.00</td>\n",
       "      <td>1257.63</td>\n",
       "      <td>1214.37</td>\n",
       "      <td>1248.10</td>\n",
       "      <td>1223.90</td>\n",
       "      <td>1.000</td>\n",
       "    </tr>\n",
       "    <tr>\n",
       "      <th>1</th>\n",
       "      <td>유럽연합 EUR</td>\n",
       "      <td>1334.76</td>\n",
       "      <td>1361.32</td>\n",
       "      <td>1308.20</td>\n",
       "      <td>1348.10</td>\n",
       "      <td>1321.42</td>\n",
       "      <td>1.080</td>\n",
       "    </tr>\n",
       "    <tr>\n",
       "      <th>2</th>\n",
       "      <td>일본 JPY (100엔)</td>\n",
       "      <td>1138.70</td>\n",
       "      <td>1158.62</td>\n",
       "      <td>1118.78</td>\n",
       "      <td>1149.85</td>\n",
       "      <td>1127.55</td>\n",
       "      <td>0.921</td>\n",
       "    </tr>\n",
       "    <tr>\n",
       "      <th>3</th>\n",
       "      <td>중국 CNY</td>\n",
       "      <td>173.67</td>\n",
       "      <td>182.35</td>\n",
       "      <td>164.99</td>\n",
       "      <td>175.40</td>\n",
       "      <td>171.94</td>\n",
       "      <td>0.141</td>\n",
       "    </tr>\n",
       "    <tr>\n",
       "      <th>4</th>\n",
       "      <td>홍콩 HKD</td>\n",
       "      <td>159.41</td>\n",
       "      <td>162.55</td>\n",
       "      <td>156.27</td>\n",
       "      <td>161.00</td>\n",
       "      <td>157.82</td>\n",
       "      <td>0.129</td>\n",
       "    </tr>\n",
       "  </tbody>\n",
       "</table>\n",
       "</div>"
      ],
      "text/plain": [
       "             통화명    매매기준율   현찰-사실때   현찰-파실때  송금-보내실 때  송금-받으실 때  미화환산율\n",
       "0         미국 USD  1236.00  1257.63  1214.37   1248.10   1223.90  1.000\n",
       "1       유럽연합 EUR  1334.76  1361.32  1308.20   1348.10   1321.42  1.080\n",
       "2  일본 JPY (100엔)  1138.70  1158.62  1118.78   1149.85   1127.55  0.921\n",
       "3         중국 CNY   173.67   182.35   164.99    175.40    171.94  0.141\n",
       "4         홍콩 HKD   159.41   162.55   156.27    161.00    157.82  0.129"
      ]
     },
     "execution_count": 24,
     "metadata": {},
     "output_type": "execute_result"
    }
   ],
   "source": [
    "# 컬럼 명 정리하기\n",
    "df.columns = [\n",
    "    '통화명','매매기준율','현찰-사실때','현찰-파실때',\n",
    "    '송금-보내실 때','송금-받으실 때','미화환산율',\n",
    "]\n",
    "df.head()"
   ]
  },
  {
   "cell_type": "code",
   "execution_count": 26,
   "metadata": {},
   "outputs": [],
   "source": [
    "# index 변경하기\n",
    "df = df.set_index('통화명')"
   ]
  },
  {
   "cell_type": "code",
   "execution_count": 27,
   "metadata": {},
   "outputs": [],
   "source": [
    "# 엑셀로 띄우기\n",
    "xw.view(df, xw.sheets.active)"
   ]
  },
  {
   "cell_type": "code",
   "execution_count": 31,
   "metadata": {},
   "outputs": [
    {
     "data": {
      "text/plain": [
       "[['통화명', '매매기준율', '현찰-사실때'], ['미국 USD', 1236.0, 1257.63]]"
      ]
     },
     "execution_count": 31,
     "metadata": {},
     "output_type": "execute_result"
    }
   ],
   "source": [
    "# 엑셀 값 읽어오기\n",
    "xw.Range('A1:C2').value"
   ]
  },
  {
   "cell_type": "code",
   "execution_count": 35,
   "metadata": {},
   "outputs": [
    {
     "data": {
      "text/plain": [
       "[['통화명', '매매기준율'],\n",
       " ['미국 USD', 1236.0],\n",
       " ['유럽연합 EUR', 1334.76],\n",
       " ['일본 JPY (100엔)', 1138.7],\n",
       " ['중국 CNY', 173.67],\n",
       " ['홍콩 HKD', 159.41],\n",
       " ['대만 TWD', 40.88],\n",
       " ['영국 GBP', 1516.32],\n",
       " ['오만 OMR', 3210.14],\n",
       " ['캐나다 CAD', 871.22],\n",
       " ['스위스 CHF', 1265.49],\n",
       " ['스웨덴 SEK', 121.84],\n",
       " ['호주 AUD', 740.86],\n",
       " ['뉴질랜드 NZD', 723.49],\n",
       " ['체코 CZK', 48.35],\n",
       " ['칠레 CLP', 1.43],\n",
       " ['터키 TRY', 184.12],\n",
       " ['몽골 MNT', 0.44],\n",
       " ['이스라엘 ILS', 338.97],\n",
       " ['덴마크 DKK', 178.72],\n",
       " ['노르웨이 NOK', 118.58],\n",
       " ['사우디아라비아 SAR', 328.59],\n",
       " ['쿠웨이트 KWD', 3974.28],\n",
       " ['바레인 BHD', 3278.25],\n",
       " ['아랍에미리트 AED', 336.5],\n",
       " ['요르단 JOD', 1743.3],\n",
       " ['이집트 EGP', 78.48],\n",
       " ['태국 THB', 37.47],\n",
       " ['싱가포르 SGD', 860.99],\n",
       " ['말레이시아 MYR', 283.68],\n",
       " ['인도네시아 IDR 100', 7.55],\n",
       " ['카타르 QAR', 336.56],\n",
       " ['카자흐스탄 KZT', 2.78],\n",
       " ['브루나이 BND', 860.99],\n",
       " ['인도 INR', 16.26],\n",
       " ['파키스탄 PKR', 7.39],\n",
       " ['방글라데시 BDT', 14.56],\n",
       " ['필리핀 PHP', 24.32],\n",
       " ['멕시코 MXN', 50.06],\n",
       " ['브라질 BRL', 235.13],\n",
       " ['베트남 VND 100', 5.25],\n",
       " ['남아프리카 공화국 ZAR', 65.61],\n",
       " ['러시아 RUB', 16.03],\n",
       " ['헝가리 HUF', 3.66],\n",
       " ['폴란드 PLN', 290.99]]"
      ]
     },
     "execution_count": 35,
     "metadata": {},
     "output_type": "execute_result"
    }
   ],
   "source": [
    "# expand 이용하기\n",
    "# 매 번 계산하기 힘들다, 처음부터 다 지정하기\n",
    "# xw.Range('A1').expand() 기본값이 table\n",
    "# xw.Range('A1').expand('table')\n",
    "# xw.Range('A1').expand('right')\n",
    "xw.Range('A1:B1').expand('down').value"
   ]
  },
  {
   "cell_type": "code",
   "execution_count": null,
   "metadata": {},
   "outputs": [],
   "source": []
  }
 ],
 "metadata": {
  "kernelspec": {
   "display_name": "Python 3",
   "language": "python",
   "name": "python3"
  },
  "language_info": {
   "codemirror_mode": {
    "name": "ipython",
    "version": 3
   },
   "file_extension": ".py",
   "mimetype": "text/x-python",
   "name": "python",
   "nbconvert_exporter": "python",
   "pygments_lexer": "ipython3",
   "version": "3.7.6"
  }
 },
 "nbformat": 4,
 "nbformat_minor": 4
}
